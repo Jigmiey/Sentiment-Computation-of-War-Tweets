{
 "cells": [
  {
   "cell_type": "markdown",
   "metadata": {},
   "source": [
    "## Import all necessary modules"
   ]
  },
  {
   "cell_type": "code",
   "execution_count": 2,
   "metadata": {},
   "outputs": [
    {
     "name": "stderr",
     "output_type": "stream",
     "text": [
      "[nltk_data] Downloading package wordnet to\n",
      "[nltk_data]     C:\\Users\\shiva\\AppData\\Roaming\\nltk_data...\n",
      "[nltk_data]   Package wordnet is already up-to-date!\n",
      "[nltk_data] Downloading package omw-1.4 to\n",
      "[nltk_data]     C:\\Users\\shiva\\AppData\\Roaming\\nltk_data...\n",
      "[nltk_data]   Package omw-1.4 is already up-to-date!\n"
     ]
    },
    {
     "data": {
      "text/plain": [
       "True"
      ]
     },
     "execution_count": 2,
     "metadata": {},
     "output_type": "execute_result"
    }
   ],
   "source": [
    "import pandas as pd\n",
    "import time\n",
    "from numpy.lib.function_base import vectorize\n",
    "import matplotlib.pyplot as plt\n",
    "from sklearn.feature_extraction.text import TfidfVectorizer\n",
    "from sklearn.model_selection import RandomizedSearchCV, train_test_split, KFold, cross_validate\n",
    "from  sklearn.ensemble import RandomForestClassifier\n",
    "\n",
    "# imort train and test split\n",
    "from sklearn.model_selection import train_test_split\n",
    "\n",
    "# accuracy and f1 score\n",
    "from sklearn.metrics import accuracy_score, f1_score\n",
    "\n",
    "\n",
    "import nltk\n",
    "nltk.download('wordnet')\n",
    "nltk.download('omw-1.4')"
   ]
  },
  {
   "cell_type": "markdown",
   "metadata": {},
   "source": [
    "## Read the data"
   ]
  },
  {
   "cell_type": "code",
   "execution_count": 3,
   "metadata": {},
   "outputs": [],
   "source": [
    "df = pd.read_csv(\"cleaned_data.csv\")"
   ]
  },
  {
   "cell_type": "markdown",
   "metadata": {},
   "source": [
    "## Tokenize the data"
   ]
  },
  {
   "cell_type": "code",
   "execution_count": 5,
   "metadata": {},
   "outputs": [
    {
     "data": {
      "text/html": [
       "<div>\n",
       "<style scoped>\n",
       "    .dataframe tbody tr th:only-of-type {\n",
       "        vertical-align: middle;\n",
       "    }\n",
       "\n",
       "    .dataframe tbody tr th {\n",
       "        vertical-align: top;\n",
       "    }\n",
       "\n",
       "    .dataframe thead th {\n",
       "        text-align: right;\n",
       "    }\n",
       "</style>\n",
       "<table border=\"1\" class=\"dataframe\">\n",
       "  <thead>\n",
       "    <tr style=\"text-align: right;\">\n",
       "      <th></th>\n",
       "      <th>ID</th>\n",
       "      <th>text</th>\n",
       "      <th>label</th>\n",
       "      <th>tokens</th>\n",
       "    </tr>\n",
       "  </thead>\n",
       "  <tbody>\n",
       "    <tr>\n",
       "      <th>0</th>\n",
       "      <td>7.680980e+17</td>\n",
       "      <td>josh jenkins loking forward tab breders crown ...</td>\n",
       "      <td>1</td>\n",
       "      <td>[josh, jenkins, loking, forward, tab, breders,...</td>\n",
       "    </tr>\n",
       "    <tr>\n",
       "      <th>1</th>\n",
       "      <td>7.680980e+17</td>\n",
       "      <td>mianusmanjaved congratulations pakistan becomi...</td>\n",
       "      <td>1</td>\n",
       "      <td>[mianusmanjaved, congratulations, pakistan, be...</td>\n",
       "    </tr>\n",
       "    <tr>\n",
       "      <th>2</th>\n",
       "      <td>7.680980e+17</td>\n",
       "      <td>pepalerts september yesmag taking maine mendoz...</td>\n",
       "      <td>1</td>\n",
       "      <td>[pepalerts, september, yesmag, taking, maine, ...</td>\n",
       "    </tr>\n",
       "    <tr>\n",
       "      <th>3</th>\n",
       "      <td>7.680980e+17</td>\n",
       "      <td>davidgaibis newly painted wals thanks milion c...</td>\n",
       "      <td>1</td>\n",
       "      <td>[davidgaibis, newly, painted, wals, thanks, mi...</td>\n",
       "    </tr>\n",
       "    <tr>\n",
       "      <th>4</th>\n",
       "      <td>7.680980e+17</td>\n",
       "      <td>cedricfeschote excited anounce july feschote l...</td>\n",
       "      <td>1</td>\n",
       "      <td>[cedricfeschote, excited, anounce, july, fesch...</td>\n",
       "    </tr>\n",
       "  </tbody>\n",
       "</table>\n",
       "</div>"
      ],
      "text/plain": [
       "             ID                                               text  label  \\\n",
       "0  7.680980e+17  josh jenkins loking forward tab breders crown ...      1   \n",
       "1  7.680980e+17  mianusmanjaved congratulations pakistan becomi...      1   \n",
       "2  7.680980e+17  pepalerts september yesmag taking maine mendoz...      1   \n",
       "3  7.680980e+17  davidgaibis newly painted wals thanks milion c...      1   \n",
       "4  7.680980e+17  cedricfeschote excited anounce july feschote l...      1   \n",
       "\n",
       "                                              tokens  \n",
       "0  [josh, jenkins, loking, forward, tab, breders,...  \n",
       "1  [mianusmanjaved, congratulations, pakistan, be...  \n",
       "2  [pepalerts, september, yesmag, taking, maine, ...  \n",
       "3  [davidgaibis, newly, painted, wals, thanks, mi...  \n",
       "4  [cedricfeschote, excited, anounce, july, fesch...  "
      ]
     },
     "execution_count": 5,
     "metadata": {},
     "output_type": "execute_result"
    }
   ],
   "source": [
    "df['tokens'] = df['text'].apply(lambda x: nltk.word_tokenize(x))\n",
    "df.head()"
   ]
  },
  {
   "cell_type": "markdown",
   "metadata": {},
   "source": [
    "## Lemmatization of tokens"
   ]
  },
  {
   "cell_type": "code",
   "execution_count": 6,
   "metadata": {},
   "outputs": [
    {
     "data": {
      "text/plain": [
       "0    [josh, jenkins, loking, forward, tab, breders,...\n",
       "1    [mianusmanjaved, congratulations, pakistan, be...\n",
       "2    [pepalerts, september, yesmag, taking, maine, ...\n",
       "3    [davidgaibis, newly, painted, wals, thanks, mi...\n",
       "4    [cedricfeschote, excited, anounce, july, fesch...\n",
       "Name: tokens, dtype: object"
      ]
     },
     "execution_count": 6,
     "metadata": {},
     "output_type": "execute_result"
    }
   ],
   "source": [
    "## Lemmatization of tokens\n",
    "lemmatizer = nltk.stem.WordNetLemmatizer()\n",
    "df['lem'] = df['tokens'].apply(lambda x: [lemmatizer.lemmatize(word) for word in x])\n",
    "df['tokens'].head()"
   ]
  },
  {
   "cell_type": "markdown",
   "metadata": {},
   "source": [
    "## Stemming of tokens"
   ]
  },
  {
   "cell_type": "code",
   "execution_count": 7,
   "metadata": {},
   "outputs": [
    {
     "data": {
      "text/plain": [
       "0    [josh, jenkin, loke, forward, tab, breder, cro...\n",
       "1    [mianusmanjav, congratul, pakistan, becom, not...\n",
       "2    [pepalert, septemb, yesmag, take, main, mendoz...\n",
       "3    [davidgaibi, newli, paint, wal, thank, milion,...\n",
       "4    [cedricfeschot, excit, anounc, juli, feschot, ...\n",
       "Name: stem, dtype: object"
      ]
     },
     "execution_count": 7,
     "metadata": {},
     "output_type": "execute_result"
    }
   ],
   "source": [
    "## Stemming of tokens\n",
    "stemmer = nltk.stem.SnowballStemmer('english')\n",
    "df['stem'] = df['tokens'].apply(lambda x: [stemmer.stem(word) for word in x])\n",
    "df['stem'].head()"
   ]
  },
  {
   "cell_type": "markdown",
   "metadata": {},
   "source": [
    "## Update the text column"
   ]
  },
  {
   "cell_type": "code",
   "execution_count": 8,
   "metadata": {},
   "outputs": [
    {
     "data": {
      "text/plain": [
       "0    josh jenkins loking forward tab breders crown ...\n",
       "1    mianusmanjaved congratulations pakistan becomi...\n",
       "2    pepalerts september yesmag taking maine mendoz...\n",
       "3    davidgaibis newly painted wals thanks milion c...\n",
       "4    cedricfeschote excited anounce july feschote l...\n",
       "Name: text, dtype: object"
      ]
     },
     "execution_count": 8,
     "metadata": {},
     "output_type": "execute_result"
    }
   ],
   "source": [
    "## Update the text column\n",
    "df['text'] = df['tokens'].apply(lambda x: \" \".join(x))\n",
    "df['text'].head()"
   ]
  },
  {
   "cell_type": "markdown",
   "metadata": {},
   "source": [
    "## Feature Extraction\n",
    "### Function to convert the data into a matrix of TF-IDF features"
   ]
  },
  {
   "cell_type": "code",
   "execution_count": 9,
   "metadata": {},
   "outputs": [],
   "source": [
    "def tfidf_vectorization(df_text, max_features = 50000):\n",
    "  vectorizer = TfidfVectorizer(use_idf=True,ngram_range=(1,3),max_features = max_features)\n",
    "  return vectorizer.fit_transform(df_text)"
   ]
  },
  {
   "cell_type": "markdown",
   "metadata": {},
   "source": [
    "## Build a model with default parameter values"
   ]
  },
  {
   "cell_type": "markdown",
   "metadata": {},
   "source": [
    "## Hyperparameter tuning and check for over fitting"
   ]
  },
  {
   "cell_type": "markdown",
   "metadata": {},
   "source": [
    "### Function to run random forest directly"
   ]
  },
  {
   "cell_type": "code",
   "execution_count": 88,
   "metadata": {},
   "outputs": [],
   "source": [
    "vectorizer = TfidfVectorizer(max_features = 10000)\n",
    "X = vectorizer.fit_transform(df['text'])\n",
    "y = df['label']\n",
    "\n",
    "# get accuracy and f1_score for random forest\n",
    "def rfc(ne,md, mss = 2, msl = 1, bootstrap = True):\n",
    "    clf = RandomForestClassifier(n_estimators= ne, max_depth= md, min_samples_split= mss,min_samples_leaf= 1 , bootstrap= bootstrap, n_jobs = -1)\n",
    "    X_train, X_test, y_train, y_test = train_test_split(X, y, test_size=0.3, random_state=42)\n",
    "    clf.fit(X_train, y_train)\n",
    "    y_pred_train = clf.predict(X_train)\n",
    "    y_pred_test = clf.predict(X_test)\n",
    "    f1train = f1_score(y_train, y_pred_train)\n",
    "    f1test = f1_score(y_test, y_pred_test)\n",
    "    return f1train, f1test"
   ]
  },
  {
   "cell_type": "markdown",
   "metadata": {},
   "source": [
    "### Max_depth"
   ]
  },
  {
   "cell_type": "code",
   "execution_count": 76,
   "metadata": {},
   "outputs": [],
   "source": [
    "max_depth = [3, 9, 15, 21, 27, 33, 39, 45, 51, 57, 63, 69, 75, 81, 87, 93, 99]\n",
    "\n",
    "accu_train_scores, accu_test_scores, f1_train_scores, f1_test_scores = [], [], [], []\n",
    "for md in max_depth:\n",
    "    print(\"max_depth: \", md)\n",
    "    f1_train_score, f1_test_score = rfc(100, md)\n",
    "    f1_train_scores.append(f1_train_score)\n",
    "    f1_test_scores.append(f1_test_score)\n"
   ]
  },
  {
   "cell_type": "code",
   "execution_count": 77,
   "metadata": {},
   "outputs": [
    {
     "data": {
      "image/png": "[encoded data removed]",
      "text/plain": [
       "<Figure size 432x288 with 1 Axes>"
      ]
     },
     "metadata": {
      "needs_background": "light"
     },
     "output_type": "display_data"
    }
   ],
   "source": [
    "# plot graph between max_depth vs f1_score\n",
    "plt.plot(max_depth, f1_train_scores, label = 'train')\n",
    "plt.plot(max_depth, f1_test_scores, label = 'test')\n",
    "plt.xlabel('max_depth')\n",
    "plt.ylabel('f1_score')\n",
    "plt.legend()\n",
    "\n",
    "plt.show()"
   ]
  },
  {
   "cell_type": "markdown",
   "metadata": {},
   "source": [
    "### n_estimators"
   ]
  },
  {
   "cell_type": "code",
   "execution_count": 79,
   "metadata": {},
   "outputs": [
    {
     "name": "stdout",
     "output_type": "stream",
     "text": [
      "n_estimators:  10\n",
      "n_estimators:  20\n",
      "n_estimators:  30\n",
      "n_estimators:  40\n",
      "n_estimators:  50\n",
      "n_estimators:  60\n",
      "n_estimators:  70\n",
      "n_estimators:  80\n",
      "n_estimators:  90\n",
      "n_estimators:  100\n",
      "n_estimators:  200\n",
      "n_estimators:  300\n",
      "n_estimators:  400\n",
      "n_estimators:  500\n"
     ]
    }
   ],
   "source": [
    "n_estimators = [10, 20, 30, 40, 50, 60, 70, 80, 90, 100, 200, 300, 400, 500]\n",
    "\n",
    "accu_train_scores, accu_test_scores, f1_train_scores, f1_test_scores = [], [], [], []\n",
    "for ne in n_estimators:\n",
    "    print(\"n_estimators: \", ne)\n",
    "    f1_train_score, f1_test_score = rfc(ne, 25)\n",
    "    f1_train_scores.append(f1_train_score)\n",
    "    f1_test_scores.append(f1_test_score)"
   ]
  },
  {
   "cell_type": "code",
   "execution_count": 80,
   "metadata": {},
   "outputs": [
    {
     "data": {
      "image/png": "[encoded data removed]",
      "text/plain": [
       "<Figure size 432x288 with 1 Axes>"
      ]
     },
     "metadata": {
      "needs_background": "light"
     },
     "output_type": "display_data"
    }
   ],
   "source": [
    "# plot f1_score\n",
    "plt.plot(n_estimators, f1_train_scores, label = 'train')\n",
    "plt.plot(n_estimators, f1_test_scores, label = 'test')\n",
    "plt.xlabel('n_estimators')\n",
    "plt.ylabel('f1_score')\n",
    "plt.legend()\n",
    "\n",
    "plt.show()"
   ]
  },
  {
   "cell_type": "markdown",
   "metadata": {},
   "source": [
    "### min_sample_split"
   ]
  },
  {
   "cell_type": "code",
   "execution_count": null,
   "metadata": {},
   "outputs": [],
   "source": [
    "min_samples_split = list(range(2, 52,2))\n",
    "\n",
    "f1_train_scores, f1_test_scores = [], []\n",
    "for mss in min_samples_split:\n",
    "    print(\"min_samples_split: \", mss)\n",
    "    f1_train_score, f1_test_score = rfc(30, 25, mss)\n",
    "    f1_train_scores.append(f1_train_score)\n",
    "    f1_test_scores.append(f1_test_score)"
   ]
  },
  {
   "cell_type": "code",
   "execution_count": 87,
   "metadata": {},
   "outputs": [
    {
     "data": {
      "image/png": "[encoded data removed]",
      "text/plain": [
       "<Figure size 432x288 with 1 Axes>"
      ]
     },
     "metadata": {
      "needs_background": "light"
     },
     "output_type": "display_data"
    }
   ],
   "source": [
    "# plot f1_score\n",
    "plt.plot(min_samples_split, f1_train_scores, label = 'train')\n",
    "plt.plot(min_samples_split, f1_test_scores, label = 'test')\n",
    "plt.xlabel('min_samples_split')\n",
    "plt.ylabel('f1_score')\n",
    "plt.legend()\n",
    "\n",
    "plt.show()"
   ]
  },
  {
   "cell_type": "markdown",
   "metadata": {},
   "source": [
    "### min_samples_leaf"
   ]
  },
  {
   "cell_type": "code",
   "execution_count": null,
   "metadata": {},
   "outputs": [],
   "source": [
    "min_samples_leaf = list(range(1, 52,2))\n",
    "\n",
    "f1_train_scores, f1_test_scores = [], []\n",
    "\n",
    "for msl in min_samples_leaf:\n",
    "    print(\"min_samples_leaf: \", msl)\n",
    "    f1_train_score, f1_test_score = rfc(30, 25, 36, msl)\n",
    "    f1_train_scores.append(f1_train_score)\n",
    "    f1_test_scores.append(f1_test_score)"
   ]
  },
  {
   "cell_type": "code",
   "execution_count": 90,
   "metadata": {},
   "outputs": [
    {
     "data": {
      "image/png": "[encoded data removed]",
      "text/plain": [
       "<Figure size 432x288 with 1 Axes>"
      ]
     },
     "metadata": {
      "needs_background": "light"
     },
     "output_type": "display_data"
    }
   ],
   "source": [
    "# plot f1_score\n",
    "plt.plot(min_samples_leaf, f1_train_scores, label = 'train')\n",
    "plt.plot(min_samples_leaf, f1_test_scores, label = 'test')\n",
    "plt.xlabel('min_samples_leaf')\n",
    "plt.ylabel('f1_score')\n",
    "plt.legend()\n",
    "\n",
    "plt.show()"
   ]
  },
  {
   "cell_type": "markdown",
   "metadata": {},
   "source": [
    "## Randomized search cv for efficient way to find best parameters"
   ]
  },
  {
   "cell_type": "markdown",
   "metadata": {},
   "source": [
    "### Using coarse parameters"
   ]
  },
  {
   "cell_type": "code",
   "execution_count": 10,
   "metadata": {},
   "outputs": [
    {
     "name": "stdout",
     "output_type": "stream",
     "text": [
      "Fitting 3 folds for each of 100 candidates, totalling 300 fits\n",
      "{'n_estimators': 50, 'min_samples_split': 40, 'min_samples_leaf': 5, 'max_features': 'sqrt', 'max_depth': 30, 'bootstrap': True}\n",
      "0.781985904226027\n",
      "RandomForestClassifier(max_depth=30, min_samples_leaf=5, min_samples_split=40,\n",
      "                       n_estimators=50)\n"
     ]
    }
   ],
   "source": [
    "vectorizer = TfidfVectorizer(max_features = 10000)\n",
    "X = vectorizer.fit_transform(df['text'])\n",
    "y = df['label']\n",
    "\n",
    "# random search for random forest\n",
    "param_grid = {\n",
    "    'n_estimators': [50, 100, 200, 500, 1000],\n",
    "    'max_features': ['auto', 'sqrt'],\n",
    "    'max_depth': [10, 20, 30],\n",
    "    'min_samples_split': [2, 5, 10, 20, 30, 40, 50],\n",
    "    'min_samples_leaf': [5, 10],\n",
    "    'bootstrap': [True, False]\n",
    "    }\n",
    "\n",
    "rgs = RandomizedSearchCV(estimator = RandomForestClassifier(), param_distributions = param_grid, n_iter = 100, cv = 3, verbose=2, random_state=42, n_jobs = -1)\n",
    "rgs.fit(X, y)\n",
    "\n",
    "print(rgs.best_params_)\n",
    "print(rgs.best_score_)\n",
    "print(rgs.best_estimator_)"
   ]
  },
  {
   "cell_type": "markdown",
   "metadata": {},
   "source": [
    "### Using closer values"
   ]
  },
  {
   "cell_type": "code",
   "execution_count": 11,
   "metadata": {},
   "outputs": [
    {
     "name": "stdout",
     "output_type": "stream",
     "text": [
      "Fitting 3 folds for each of 50 candidates, totalling 150 fits\n",
      "{'n_estimators': 40, 'min_samples_split': 40, 'min_samples_leaf': 7, 'max_depth': 50}\n",
      "0.8613367519493603\n",
      "RandomForestClassifier(max_depth=50, min_samples_leaf=7, min_samples_split=40,\n",
      "                       n_estimators=40)\n"
     ]
    }
   ],
   "source": [
    "param_grid = {\n",
    "    'n_estimators': [30, 40, 50, 60, 70],\n",
    "    'max_depth': [25, 30, 35, 40, 45, 50],\n",
    "    'min_samples_split': [30, 35, 40, 45, 50],\n",
    "    'min_samples_leaf': [3, 4, 5, 6, 7]\n",
    "    }\n",
    "\n",
    "rgs = RandomizedSearchCV(estimator = RandomForestClassifier(), param_distributions = param_grid, n_iter = 50, cv = 3, verbose=3, random_state=42, n_jobs = -1)\n",
    "rgs.fit(X, y)"
   ]
  },
  {
   "cell_type": "markdown",
   "metadata": {},
   "source": [
    "#### Best parameters = {\n",
    "    'n_estimators': 40,\n",
    "    'min_samples_split': 40,\n",
    "    'min_samples_leaf': 7,\n",
    "    'max_depth': 50\n",
    "}"
   ]
  },
  {
   "cell_type": "markdown",
   "metadata": {},
   "source": [
    "## Final Model"
   ]
  },
  {
   "cell_type": "code",
   "execution_count": 10,
   "metadata": {},
   "outputs": [
    {
     "name": "stdout",
     "output_type": "stream",
     "text": [
      "~~ K-Fold Cross validate started ~~\n",
      "Time taken for the completion: 112.46994662284851\n",
      "Accuracy:  0.8340370675183623\n",
      "F1:  0.8895734901973746\n",
      "Precision:  0.8071482083867938\n",
      "Recall:  0.9907549823364208\n"
     ]
    }
   ],
   "source": [
    "vectorizer = TfidfVectorizer(max_features = 10000)\n",
    "X = vectorizer.fit_transform(df['text'])\n",
    "y = df['label']\n",
    "\n",
    "kfold = KFold(n_splits = 5, shuffle = True)\n",
    "model = RandomForestClassifier(n_estimators = 40, min_samples_split = 40, min_samples_leaf = 7, max_depth = 50)\n",
    "print(\"~~ K-Fold Cross validate started ~~\")\n",
    "start = time.time()\n",
    "results = cross_validate(model, X, y, cv = kfold, scoring = ('accuracy', 'f1', 'precision', 'recall'))\n",
    "end = time.time()\n",
    "print(\"Time taken for the completion:\",end-start)\n",
    "print('Accuracy: ', results['test_accuracy'].mean())\n",
    "print('F1: ', results['test_f1'].mean())\n",
    "print('Precision: ', results['test_precision'].mean())\n",
    "print('Recall: ', results['test_recall'].mean())"
   ]
  },
  {
   "cell_type": "markdown",
   "metadata": {},
   "source": [
    "<h2 style=\"padding: 20px;color: #50C878; border: 1px solid #50C878; border-radius: 7px;\">We can observe that scores (especially f1) are improved around <i>\"10%\"</i> compared to when used only default parameters</h2>"
   ]
  }
 ],
 "metadata": {
  "kernelspec": {
   "display_name": "Python 3.10.4 64-bit",
   "language": "python",
   "name": "python3"
  },
  "language_info": {
   "codemirror_mode": {
    "name": "ipython",
    "version": 3
   },
   "file_extension": ".py",
   "mimetype": "text/x-python",
   "name": "python",
   "nbconvert_exporter": "python",
   "pygments_lexer": "ipython3",
   "version": "3.10.4"
  },
  "orig_nbformat": 4,
  "vscode": {
   "interpreter": {
    "hash": "369f2c481f4da34e4445cda3fffd2e751bd1c4d706f27375911949ba6bb62e1c"
   }
  }
 },
 "nbformat": 4,
 "nbformat_minor": 2
}
