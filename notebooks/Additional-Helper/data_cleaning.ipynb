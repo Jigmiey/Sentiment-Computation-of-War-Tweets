{
  "nbformat": 4,
  "nbformat_minor": 0,
  "metadata": {
    "colab": {
      "provenance": []
    },
    "kernelspec": {
      "name": "python3",
      "display_name": "Python 3"
    },
    "language_info": {
      "name": "python"
    }
  },
  "cells": [
    {
      "cell_type": "code",
      "execution_count": null,
      "metadata": {
        "colab": {
          "base_uri": "https://localhost:8080/"
        },
        "id": "_TFNKabYNZCs",
        "outputId": "295c30ca-01fe-4f6f-d279-987943819f8c"
      },
      "outputs": [
        {
          "output_type": "stream",
          "name": "stderr",
          "text": [
            "[nltk_data] Downloading package wordnet to /root/nltk_data...\n",
            "[nltk_data]   Package wordnet is already up-to-date!\n",
            "[nltk_data] Downloading package omw-1.4 to /root/nltk_data...\n",
            "[nltk_data]   Package omw-1.4 is already up-to-date!\n"
          ]
        },
        {
          "output_type": "execute_result",
          "data": {
            "text/plain": [
              "True"
            ]
          },
          "metadata": {},
          "execution_count": 144
        }
      ],
      "source": [
        "import re\n",
        "import time\n",
        "import numpy as np\n",
        "import pandas as pd\n",
        "import matplotlib.pyplot as plt\n",
        "import plotly.express as px\n",
        "import string\n",
        "from sklearn.feature_extraction.text import TfidfVectorizer\n",
        "from sklearn.model_selection import GridSearchCV, RandomizedSearchCV, train_test_split\n",
        "from xgboost import XGBClassifier\n",
        "# import f1_score\n",
        "from sklearn.metrics import f1_score\n",
        "\n",
        "#import pmultiprocessing\n",
        "from multiprocessing import Pool\n",
        "\n",
        "import nltk\n",
        "from nltk.tokenize import RegexpTokenizer\n",
        "nltk.download('wordnet')\n",
        "nltk.download('omw-1.4')"
      ]
    },
    {
      "cell_type": "code",
      "source": [
        "df = pd.read_csv(\"/content/drive/MyDrive/MIE1624_final_project/sentiment_analysis.csv\")"
      ],
      "metadata": {
        "id": "7YhvQDkPR648"
      },
      "execution_count": null,
      "outputs": []
    },
    {
      "cell_type": "markdown",
      "source": [
        "## Helper Functions"
      ],
      "metadata": {
        "id": "Tj2xwdXqR9ib"
      }
    },
    {
      "cell_type": "code",
      "source": [
        "# Remove punctuations\n",
        "def remove_punc(s):\n",
        "  return s.translate(str.maketrans('', '', string.punctuation))\n",
        "\n",
        "# removes same successive alphabets from words\n",
        "def remove_repeating_char(text):\n",
        "    return re.sub(r'(.)\\1{1,}', r'\\1', text)\n",
        "\n",
        "# read the file containing stop words and converts it to list\n",
        "def get_stop_words_from_txt(fname):\n",
        "    stop_words = []\n",
        "    with open(fname, 'r', encoding='utf-8') as f:\n",
        "        for wrd in f.read().splitlines():\n",
        "            stop_words.append(remove_repeating_char(wrd))\n",
        "    return stop_words\n",
        "\n",
        "# removes stop words from text\n",
        "def clean_stop_words(text, stop_words):\n",
        "    return \" \".join([word for word in str(text).split() if word not in stop_words])"
      ],
      "metadata": {
        "id": "jcDKVRbuR_QO"
      },
      "execution_count": null,
      "outputs": []
    },
    {
      "cell_type": "markdown",
      "source": [
        "## Function to Clean Data"
      ],
      "metadata": {
        "id": "oO94vk6YSM09"
      }
    },
    {
      "cell_type": "code",
      "source": [
        "def clean_data(df_data, add_stop_words= []):\n",
        "\n",
        "  # Convert text to lower case\n",
        "  df_data = df_data.str.lower()\n",
        "\n",
        "  # remove complete urls from the text column\n",
        "  df_data = df_data.str.replace('https\\S+|www.\\S+', '', case=False, regex=True)\n",
        "\n",
        "  # remove all numbers from the text column\n",
        "  df_data = df_data.str.replace('\\d+', '', regex=True)\n",
        "\n",
        "  # Remove punctuations\n",
        "  df_data = df_data.apply(lambda x: remove_punc(x))\n",
        "\n",
        "  # remove successive repeating characters\n",
        "  df_data = df_data.apply(lambda x: remove_repeating_char(x))\n",
        "\n",
        "  # read min_stop_words.txt file and add every word to a list\n",
        "  minimal_stop_words = get_stop_words_from_txt('/content/drive/MyDrive/MIE1624_final_project/minimal_stop_words.txt')\n",
        "\n",
        "  # if any extra stop words are given add them to minimal_stop_words list\n",
        "  minimal_stop_words.extend(add_stop_words)\n",
        "\n",
        "  # remove minimal stop words from text\n",
        "  df_data = df_data.apply(lambda text: clean_stop_words(text, minimal_stop_words))\n",
        "  \n",
        "  return df_data"
      ],
      "metadata": {
        "id": "Zxskf8owSK8D"
      },
      "execution_count": null,
      "outputs": []
    },
    {
      "cell_type": "markdown",
      "source": [
        "## Save the cleaned data to an csv"
      ],
      "metadata": {
        "id": "jn0k_m01SYYd"
      }
    },
    {
      "cell_type": "code",
      "source": [
        "# call the function to clean the data\n",
        "df['text'] = clean_data(df['text'])\n",
        "\n",
        "# remove empty rows\n",
        "df = df.replace(r'^\\s*$', np.nan, regex = True)\n",
        "df.dropna(inplace = True)\n",
        "\n",
        "# save the cleaned data to a csv file\n",
        "df.to_csv('/content/drive/MyDrive/MIE1624_final_project/cleaned_data.csv', index=False)\n",
        "\n",
        "# View the cleaned data\n",
        "df.head()"
      ],
      "metadata": {
        "colab": {
          "base_uri": "https://localhost:8080/",
          "height": 206
        },
        "id": "itnu5xbsSbme",
        "outputId": "b65b925c-4071-4dc9-cb25-d74b6237af0d"
      },
      "execution_count": null,
      "outputs": [
        {
          "output_type": "execute_result",
          "data": {
            "text/plain": [
              "             ID                                               text  label\n",
              "0  7.680980e+17  josh jenkins loking forward tab breders crown ...      1\n",
              "1  7.680980e+17  mianusmanjaved congratulations pakistan becomi...      1\n",
              "2  7.680980e+17  pepalerts september yesmag taking maine mendoz...      1\n",
              "3  7.680980e+17  davidgaibis newly painted wals thanks milion c...      1\n",
              "4  7.680980e+17  cedricfeschote excited anounce july feschote l...      1"
            ],
            "text/html": [
              "\n",
              "  <div id=\"df-672eec59-f5e5-4ad7-9016-93ea45227fa4\">\n",
              "    <div class=\"colab-df-container\">\n",
              "      <div>\n",
              "<style scoped>\n",
              "    .dataframe tbody tr th:only-of-type {\n",
              "        vertical-align: middle;\n",
              "    }\n",
              "\n",
              "    .dataframe tbody tr th {\n",
              "        vertical-align: top;\n",
              "    }\n",
              "\n",
              "    .dataframe thead th {\n",
              "        text-align: right;\n",
              "    }\n",
              "</style>\n",
              "<table border=\"1\" class=\"dataframe\">\n",
              "  <thead>\n",
              "    <tr style=\"text-align: right;\">\n",
              "      <th></th>\n",
              "      <th>ID</th>\n",
              "      <th>text</th>\n",
              "      <th>label</th>\n",
              "    </tr>\n",
              "  </thead>\n",
              "  <tbody>\n",
              "    <tr>\n",
              "      <th>0</th>\n",
              "      <td>7.680980e+17</td>\n",
              "      <td>josh jenkins loking forward tab breders crown ...</td>\n",
              "      <td>1</td>\n",
              "    </tr>\n",
              "    <tr>\n",
              "      <th>1</th>\n",
              "      <td>7.680980e+17</td>\n",
              "      <td>mianusmanjaved congratulations pakistan becomi...</td>\n",
              "      <td>1</td>\n",
              "    </tr>\n",
              "    <tr>\n",
              "      <th>2</th>\n",
              "      <td>7.680980e+17</td>\n",
              "      <td>pepalerts september yesmag taking maine mendoz...</td>\n",
              "      <td>1</td>\n",
              "    </tr>\n",
              "    <tr>\n",
              "      <th>3</th>\n",
              "      <td>7.680980e+17</td>\n",
              "      <td>davidgaibis newly painted wals thanks milion c...</td>\n",
              "      <td>1</td>\n",
              "    </tr>\n",
              "    <tr>\n",
              "      <th>4</th>\n",
              "      <td>7.680980e+17</td>\n",
              "      <td>cedricfeschote excited anounce july feschote l...</td>\n",
              "      <td>1</td>\n",
              "    </tr>\n",
              "  </tbody>\n",
              "</table>\n",
              "</div>\n",
              "      <button class=\"colab-df-convert\" onclick=\"convertToInteractive('df-672eec59-f5e5-4ad7-9016-93ea45227fa4')\"\n",
              "              title=\"Convert this dataframe to an interactive table.\"\n",
              "              style=\"display:none;\">\n",
              "        \n",
              "  <svg xmlns=\"http://www.w3.org/2000/svg\" height=\"24px\"viewBox=\"0 0 24 24\"\n",
              "       width=\"24px\">\n",
              "    <path d=\"M0 0h24v24H0V0z\" fill=\"none\"/>\n",
              "    <path d=\"M18.56 5.44l.94 2.06.94-2.06 2.06-.94-2.06-.94-.94-2.06-.94 2.06-2.06.94zm-11 1L8.5 8.5l.94-2.06 2.06-.94-2.06-.94L8.5 2.5l-.94 2.06-2.06.94zm10 10l.94 2.06.94-2.06 2.06-.94-2.06-.94-.94-2.06-.94 2.06-2.06.94z\"/><path d=\"M17.41 7.96l-1.37-1.37c-.4-.4-.92-.59-1.43-.59-.52 0-1.04.2-1.43.59L10.3 9.45l-7.72 7.72c-.78.78-.78 2.05 0 2.83L4 21.41c.39.39.9.59 1.41.59.51 0 1.02-.2 1.41-.59l7.78-7.78 2.81-2.81c.8-.78.8-2.07 0-2.86zM5.41 20L4 18.59l7.72-7.72 1.47 1.35L5.41 20z\"/>\n",
              "  </svg>\n",
              "      </button>\n",
              "      \n",
              "  <style>\n",
              "    .colab-df-container {\n",
              "      display:flex;\n",
              "      flex-wrap:wrap;\n",
              "      gap: 12px;\n",
              "    }\n",
              "\n",
              "    .colab-df-convert {\n",
              "      background-color: #E8F0FE;\n",
              "      border: none;\n",
              "      border-radius: 50%;\n",
              "      cursor: pointer;\n",
              "      display: none;\n",
              "      fill: #1967D2;\n",
              "      height: 32px;\n",
              "      padding: 0 0 0 0;\n",
              "      width: 32px;\n",
              "    }\n",
              "\n",
              "    .colab-df-convert:hover {\n",
              "      background-color: #E2EBFA;\n",
              "      box-shadow: 0px 1px 2px rgba(60, 64, 67, 0.3), 0px 1px 3px 1px rgba(60, 64, 67, 0.15);\n",
              "      fill: #174EA6;\n",
              "    }\n",
              "\n",
              "    [theme=dark] .colab-df-convert {\n",
              "      background-color: #3B4455;\n",
              "      fill: #D2E3FC;\n",
              "    }\n",
              "\n",
              "    [theme=dark] .colab-df-convert:hover {\n",
              "      background-color: #434B5C;\n",
              "      box-shadow: 0px 1px 3px 1px rgba(0, 0, 0, 0.15);\n",
              "      filter: drop-shadow(0px 1px 2px rgba(0, 0, 0, 0.3));\n",
              "      fill: #FFFFFF;\n",
              "    }\n",
              "  </style>\n",
              "\n",
              "      <script>\n",
              "        const buttonEl =\n",
              "          document.querySelector('#df-672eec59-f5e5-4ad7-9016-93ea45227fa4 button.colab-df-convert');\n",
              "        buttonEl.style.display =\n",
              "          google.colab.kernel.accessAllowed ? 'block' : 'none';\n",
              "\n",
              "        async function convertToInteractive(key) {\n",
              "          const element = document.querySelector('#df-672eec59-f5e5-4ad7-9016-93ea45227fa4');\n",
              "          const dataTable =\n",
              "            await google.colab.kernel.invokeFunction('convertToInteractive',\n",
              "                                                     [key], {});\n",
              "          if (!dataTable) return;\n",
              "\n",
              "          const docLinkHtml = 'Like what you see? Visit the ' +\n",
              "            '<a target=\"_blank\" href=https://colab.research.google.com/notebooks/data_table.ipynb>data table notebook</a>'\n",
              "            + ' to learn more about interactive tables.';\n",
              "          element.innerHTML = '';\n",
              "          dataTable['output_type'] = 'display_data';\n",
              "          await google.colab.output.renderOutput(dataTable, element);\n",
              "          const docLink = document.createElement('div');\n",
              "          docLink.innerHTML = docLinkHtml;\n",
              "          element.appendChild(docLink);\n",
              "        }\n",
              "      </script>\n",
              "    </div>\n",
              "  </div>\n",
              "  "
            ]
          },
          "metadata": {},
          "execution_count": 148
        }
      ]
    }
  ]
}