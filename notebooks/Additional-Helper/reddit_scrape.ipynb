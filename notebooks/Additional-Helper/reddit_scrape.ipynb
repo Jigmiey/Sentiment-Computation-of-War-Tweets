{
 "cells": [
  {
   "cell_type": "code",
   "execution_count": 37,
   "metadata": {},
   "outputs": [],
   "source": [
    "import praw\n",
    "import credentials\n",
    "import pandas as pd\n",
    "\n",
    "# do not print future warnings\n",
    "import warnings\n",
    "warnings.simplefilter(action='ignore', category=FutureWarning)\n"
   ]
  },
  {
   "cell_type": "code",
   "execution_count": 29,
   "metadata": {},
   "outputs": [],
   "source": [
    "client_id = credentials.cliend_id\n",
    "client_secret = credentials.client_secret"
   ]
  },
  {
   "cell_type": "code",
   "execution_count": 30,
   "metadata": {},
   "outputs": [],
   "source": [
    "reddit = praw.Reddit(client_id=client_id,\n",
    "                        client_secret=client_secret,\n",
    "                        user_agent='MIE1624')"
   ]
  },
  {
   "cell_type": "code",
   "execution_count": 48,
   "metadata": {},
   "outputs": [],
   "source": [
    "subreddit = 'nottheonion'\n",
    "\n",
    "# create a dataframe to store the data\n",
    "df = pd.DataFrame(columns=['title','id', 'created', 'comment'])"
   ]
  },
  {
   "cell_type": "code",
   "execution_count": 49,
   "metadata": {},
   "outputs": [
    {
     "name": "stderr",
     "output_type": "stream",
     "text": [
      "C:\\Users\\shiva\\AppData\\Local\\Temp\\ipykernel_10272\\1199878650.py:2: DeprecationWarning: Positional arguments for 'BaseListingMixin.top' will no longer be supported in PRAW 8.\n",
      "Call this function with 'time_filter' as a keyword argument.\n",
      "  for submission in reddit.subreddit(subreddit).top('month', limit=100):\n"
     ]
    }
   ],
   "source": [
    "# get top 100 posts from ukraine subreddit in past month\n",
    "for submission in reddit.subreddit(subreddit).top('month', limit=100):\n",
    "    submission.comments.replace_more()\n",
    "    for top_level_comment in submission.comments:\n",
    "        df = df.append({'title':submission.title, 'id':submission.id, 'created':submission.created, 'comment': top_level_comment.body}, ignore_index=True)"
   ]
  },
  {
   "cell_type": "code",
   "execution_count": 50,
   "metadata": {},
   "outputs": [],
   "source": [
    "# convert created time to readable format\n",
    "df['created_formatted'] = pd.to_datetime(df['created'], unit='s')"
   ]
  },
  {
   "cell_type": "code",
   "execution_count": 51,
   "metadata": {},
   "outputs": [
    {
     "data": {
      "text/html": [
       "<div>\n",
       "<style scoped>\n",
       "    .dataframe tbody tr th:only-of-type {\n",
       "        vertical-align: middle;\n",
       "    }\n",
       "\n",
       "    .dataframe tbody tr th {\n",
       "        vertical-align: top;\n",
       "    }\n",
       "\n",
       "    .dataframe thead th {\n",
       "        text-align: right;\n",
       "    }\n",
       "</style>\n",
       "<table border=\"1\" class=\"dataframe\">\n",
       "  <thead>\n",
       "    <tr style=\"text-align: right;\">\n",
       "      <th></th>\n",
       "      <th>title</th>\n",
       "      <th>id</th>\n",
       "      <th>created</th>\n",
       "      <th>comment</th>\n",
       "      <th>created_formatted</th>\n",
       "    </tr>\n",
       "  </thead>\n",
       "  <tbody>\n",
       "    <tr>\n",
       "      <th>0</th>\n",
       "      <td>Twitter pauses paid verifications after users ...</td>\n",
       "      <td>ysfx6u</td>\n",
       "      <td>1.668185e+09</td>\n",
       "      <td>The only surprise here is how quickly Twitter ...</td>\n",
       "      <td>2022-11-11 16:49:38</td>\n",
       "    </tr>\n",
       "    <tr>\n",
       "      <th>1</th>\n",
       "      <td>Twitter pauses paid verifications after users ...</td>\n",
       "      <td>ysfx6u</td>\n",
       "      <td>1.668185e+09</td>\n",
       "      <td>Sort of defeats the purpose of verification, hmm</td>\n",
       "      <td>2022-11-11 16:49:38</td>\n",
       "    </tr>\n",
       "    <tr>\n",
       "      <th>2</th>\n",
       "      <td>Twitter pauses paid verifications after users ...</td>\n",
       "      <td>ysfx6u</td>\n",
       "      <td>1.668185e+09</td>\n",
       "      <td>No one could've predicted this.  Absolutely no...</td>\n",
       "      <td>2022-11-11 16:49:38</td>\n",
       "    </tr>\n",
       "    <tr>\n",
       "      <th>3</th>\n",
       "      <td>Twitter pauses paid verifications after users ...</td>\n",
       "      <td>ysfx6u</td>\n",
       "      <td>1.668185e+09</td>\n",
       "      <td>It blows my mind that this man framed the blue...</td>\n",
       "      <td>2022-11-11 16:49:38</td>\n",
       "    </tr>\n",
       "    <tr>\n",
       "      <th>4</th>\n",
       "      <td>Twitter pauses paid verifications after users ...</td>\n",
       "      <td>ysfx6u</td>\n",
       "      <td>1.668185e+09</td>\n",
       "      <td>Musk is supposed to be this massive genius, bu...</td>\n",
       "      <td>2022-11-11 16:49:38</td>\n",
       "    </tr>\n",
       "  </tbody>\n",
       "</table>\n",
       "</div>"
      ],
      "text/plain": [
       "                                               title      id       created  \\\n",
       "0  Twitter pauses paid verifications after users ...  ysfx6u  1.668185e+09   \n",
       "1  Twitter pauses paid verifications after users ...  ysfx6u  1.668185e+09   \n",
       "2  Twitter pauses paid verifications after users ...  ysfx6u  1.668185e+09   \n",
       "3  Twitter pauses paid verifications after users ...  ysfx6u  1.668185e+09   \n",
       "4  Twitter pauses paid verifications after users ...  ysfx6u  1.668185e+09   \n",
       "\n",
       "                                             comment   created_formatted  \n",
       "0  The only surprise here is how quickly Twitter ... 2022-11-11 16:49:38  \n",
       "1   Sort of defeats the purpose of verification, hmm 2022-11-11 16:49:38  \n",
       "2  No one could've predicted this.  Absolutely no... 2022-11-11 16:49:38  \n",
       "3  It blows my mind that this man framed the blue... 2022-11-11 16:49:38  \n",
       "4  Musk is supposed to be this massive genius, bu... 2022-11-11 16:49:38  "
      ]
     },
     "execution_count": 51,
     "metadata": {},
     "output_type": "execute_result"
    }
   ],
   "source": [
    "df.head()"
   ]
  },
  {
   "cell_type": "code",
   "execution_count": 52,
   "metadata": {},
   "outputs": [],
   "source": [
    "# save the dataframe to a csv file\n",
    "df.to_csv('reddit_data.csv')"
   ]
  }
 ],
 "metadata": {
  "kernelspec": {
   "display_name": "Python 3.10.4 64-bit",
   "language": "python",
   "name": "python3"
  },
  "language_info": {
   "codemirror_mode": {
    "name": "ipython",
    "version": 3
   },
   "file_extension": ".py",
   "mimetype": "text/x-python",
   "name": "python",
   "nbconvert_exporter": "python",
   "pygments_lexer": "ipython3",
   "version": "3.10.4"
  },
  "orig_nbformat": 4,
  "vscode": {
   "interpreter": {
    "hash": "369f2c481f4da34e4445cda3fffd2e751bd1c4d706f27375911949ba6bb62e1c"
   }
  }
 },
 "nbformat": 4,
 "nbformat_minor": 2
}
